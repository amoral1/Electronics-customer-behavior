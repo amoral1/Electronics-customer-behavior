import pandas as pd
import numpy as np
import matplotlib.pyplot as plt
import seaborn as sns

URL = 'https://raw.githubusercontent.com/amoral1/Electronics-customer-behavior/main/Electronic_sales_Sep2023-Sep2024.csv'
df = pd.read_csv(URL)
print("First 5 rows of your data:")
print(df.head())

plt.figure(figsize=(10,6))
sns.scatterplot(data=df.head(20))  # Adjust according to your actual columns
plt.title("Test Plot")
plt.show()